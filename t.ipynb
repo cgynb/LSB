{
 "cells": [
  {
   "cell_type": "code",
   "execution_count": 12,
   "id": "802ca618-0dee-489a-9ad3-82df3c7d3ab4",
   "metadata": {
    "tags": []
   },
   "outputs": [],
   "source": [
    "import numpy as np"
   ]
  },
  {
   "cell_type": "code",
   "execution_count": 13,
   "id": "0a1eddd5-1725-46ed-a620-0fe4696d5565",
   "metadata": {
    "tags": []
   },
   "outputs": [],
   "source": [
    "x = np.array([\n",
    "    [1,2,3,4],\n",
    "    [5,6,7,8],\n",
    "    [9,10,11,12],\n",
    "    [13,14,15,16],\n",
    "    [17,18,19,20]\n",
    "]) "
   ]
  },
  {
   "cell_type": "code",
   "execution_count": 14,
   "id": "27d3e9aa-55e3-4741-b598-24e2bb4fc92d",
   "metadata": {
    "tags": []
   },
   "outputs": [
    {
     "name": "stdout",
     "output_type": "stream",
     "text": [
      "[[ 1  2  3  4]\n",
      " [ 5  6  7  8]\n",
      " [ 9 10 11 12]\n",
      " [13 14 15 16]\n",
      " [17 18 19 20]]\n"
     ]
    }
   ],
   "source": [
    "print(x)"
   ]
  },
  {
   "cell_type": "code",
   "execution_count": 15,
   "id": "b07fafd8-a531-41dd-bf18-e011ff920d20",
   "metadata": {
    "tags": []
   },
   "outputs": [
    {
     "data": {
      "text/plain": [
       "(5, 4)"
      ]
     },
     "execution_count": 15,
     "metadata": {},
     "output_type": "execute_result"
    }
   ],
   "source": [
    "x.shape"
   ]
  },
  {
   "cell_type": "code",
   "execution_count": 18,
   "id": "41097843-60cc-4ee2-bde0-5019945c026c",
   "metadata": {
    "tags": []
   },
   "outputs": [
    {
     "data": {
      "text/plain": [
       "array([ 1,  5,  9, 13, 17])"
      ]
     },
     "execution_count": 18,
     "metadata": {},
     "output_type": "execute_result"
    }
   ],
   "source": [
    "x[:, 0]"
   ]
  },
  {
   "cell_type": "code",
   "execution_count": 19,
   "id": "4011f8b2-c19f-4dc0-8952-35dae82c7da5",
   "metadata": {
    "tags": []
   },
   "outputs": [
    {
     "data": {
      "text/plain": [
       "9"
      ]
     },
     "execution_count": 19,
     "metadata": {},
     "output_type": "execute_result"
    }
   ],
   "source": [
    "x[2, 0]"
   ]
  },
  {
   "cell_type": "code",
   "execution_count": 21,
   "id": "1023759f-16d1-41de-ac64-d3df16798bd0",
   "metadata": {
    "tags": []
   },
   "outputs": [
    {
     "data": {
      "text/plain": [
       "array([[1, 2],\n",
       "       [5, 6]])"
      ]
     },
     "execution_count": 21,
     "metadata": {},
     "output_type": "execute_result"
    }
   ],
   "source": [
    "x[0:2, 0:2]"
   ]
  },
  {
   "cell_type": "code",
   "execution_count": 26,
   "id": "10af18df-9c31-4eab-80a8-0d0c586f62a8",
   "metadata": {
    "tags": []
   },
   "outputs": [],
   "source": [
    "x[1::2, 1::2] = 999"
   ]
  },
  {
   "cell_type": "code",
   "execution_count": 27,
   "id": "77717ffa-682f-493e-a304-44f2533ff2e5",
   "metadata": {
    "tags": []
   },
   "outputs": [
    {
     "data": {
      "text/plain": [
       "array([[  1,   2,   3,   4],\n",
       "       [  5, 999,   7, 999],\n",
       "       [  9,  10,  11,  12],\n",
       "       [ 13, 999,  15, 999],\n",
       "       [ 17,  18,  19,  20]])"
      ]
     },
     "execution_count": 27,
     "metadata": {},
     "output_type": "execute_result"
    }
   ],
   "source": [
    "x"
   ]
  },
  {
   "cell_type": "code",
   "execution_count": 40,
   "id": "5cb3f227-502c-4ec6-ad0b-471aaa248e9f",
   "metadata": {
    "tags": []
   },
   "outputs": [],
   "source": [
    "x = np.array([\n",
    "    [\n",
    "        [1, 1.1, 1.2],\n",
    "        [2, 2.1, 2.2],\n",
    "        [3, 3.1, 3.2]\n",
    "    ], \n",
    "    [\n",
    "        [4, 4.1, 4.2],\n",
    "        [5, 5.1, 5.2],\n",
    "        [6, 6.1, 6.2]\n",
    "    ]\n",
    "])"
   ]
  },
  {
   "cell_type": "code",
   "execution_count": 41,
   "id": "10a09b6a-c628-4dea-877a-f5adec1eb2de",
   "metadata": {
    "tags": []
   },
   "outputs": [
    {
     "data": {
      "text/plain": [
       "array([[[1. , 1.1, 1.2],\n",
       "        [2. , 2.1, 2.2],\n",
       "        [3. , 3.1, 3.2]],\n",
       "\n",
       "       [[4. , 4.1, 4.2],\n",
       "        [5. , 5.1, 5.2],\n",
       "        [6. , 6.1, 6.2]]])"
      ]
     },
     "execution_count": 41,
     "metadata": {},
     "output_type": "execute_result"
    }
   ],
   "source": [
    "x"
   ]
  },
  {
   "cell_type": "code",
   "execution_count": 42,
   "id": "b28004b4-dc96-480d-a014-2064c539460c",
   "metadata": {
    "tags": []
   },
   "outputs": [
    {
     "data": {
      "text/plain": [
       "(2, 3, 3)"
      ]
     },
     "execution_count": 42,
     "metadata": {},
     "output_type": "execute_result"
    }
   ],
   "source": [
    "x.shape"
   ]
  },
  {
   "cell_type": "code",
   "execution_count": 46,
   "id": "7820ae75-6dfc-4d5e-a741-97769cb737f3",
   "metadata": {
    "tags": []
   },
   "outputs": [
    {
     "ename": "IndexError",
     "evalue": "an index can only have a single ellipsis ('...')",
     "output_type": "error",
     "traceback": [
      "\u001b[1;31m---------------------------------------------------------------------------\u001b[0m",
      "\u001b[1;31mIndexError\u001b[0m                                Traceback (most recent call last)",
      "Cell \u001b[1;32mIn[46], line 1\u001b[0m\n\u001b[1;32m----> 1\u001b[0m \u001b[43mx\u001b[49m\u001b[43m[\u001b[49m\u001b[38;5;241;43m.\u001b[39;49m\u001b[38;5;241;43m.\u001b[39;49m\u001b[38;5;241;43m.\u001b[39;49m\u001b[43m,\u001b[49m\u001b[43m \u001b[49m\u001b[38;5;241;43m1\u001b[39;49m\u001b[43m,\u001b[49m\u001b[43m \u001b[49m\u001b[38;5;241;43m.\u001b[39;49m\u001b[38;5;241;43m.\u001b[39;49m\u001b[38;5;241;43m.\u001b[39;49m\u001b[43m]\u001b[49m\n",
      "\u001b[1;31mIndexError\u001b[0m: an index can only have a single ellipsis ('...')"
     ]
    }
   ],
   "source": []
  }
 ],
 "metadata": {
  "kernelspec": {
   "display_name": "Python [conda env:.conda-ptPro] *",
   "language": "python",
   "name": "conda-env-.conda-ptPro-py"
  },
  "language_info": {
   "codemirror_mode": {
    "name": "ipython",
    "version": 3
   },
   "file_extension": ".py",
   "mimetype": "text/x-python",
   "name": "python",
   "nbconvert_exporter": "python",
   "pygments_lexer": "ipython3",
   "version": "3.10.11"
  }
 },
 "nbformat": 4,
 "nbformat_minor": 5
}
